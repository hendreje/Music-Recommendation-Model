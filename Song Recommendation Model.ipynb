{
 "cells": [
  {
   "cell_type": "markdown",
   "id": "75c79da8",
   "metadata": {
    "id": "75c79da8"
   },
   "source": [
    "# Music Recommendation System\n",
    "\n",
    "---------------\n",
    "## **Context**\n",
    "---------------\n",
    "\n",
    "With the advent of technology, societies have become more efficient with their lives. At the same time, however, individual human lives have also become more fast-paced and distracted, leaving little time to explore artistic pursuits. Also, technology has made significant advancements in the ability to coexist with art and general entertainment. It has in fact made it easier for humans with a shortage of time to find and consume good content.\n",
    "\n",
    "Almost every internet-based company's revenue relies on the time consumers spend on its platform. These companies need to be able to figure out what kind of content is needed in order to increase customer time spent and make their experience better. Therefore, one of the key challenges for these companies is figuring out what kind of content their customers are most likely to consume. \n",
    "\n",
    "Spotify is one such audio content provider with a huge market base across the world. With the ever-increasing volume of songs becoming available on the Internet, searching for songs of interest has become a tedious task in itself. However, Spotify has grown significantly in the market because of its ability to recommend the ‘best’ next song to each and every customer based on a huge preference database gathered over time - millions of customers and billions of songs. This is done by using smart recommendation systems that can recommend songs based on users’ likes/dislikes.\n",
    "\n",
    "-----------------\n",
    "## **Objective**\n",
    "-----------------\n",
    "\n",
    "Build a recommendation system to propose the top 10 songs for a user based on the likelihood of\n",
    "listening to those songs.\n",
    "\n",
    "\n",
    "-----------------\n",
    "## **Dataset**\n",
    "-----------------\n",
    "The core dataset is the Taste Profile Subset released by The Echo Nest as part of the Million Song Dataset. There are two files in this dataset. One contains the details about the song id, titles, release, artist name, and the year of release. The second file contains the user id, song id, and the play count of users.\n",
    "\n",
    "song_data:\n",
    "- song_id: A unique id given to every song\n",
    "- title: Title of the song\n",
    "- Release: Name of the released album\n",
    "- Artist_name: Name of the artist\n",
    "- year: Year of release\n",
    "\n",
    "count_data:\n",
    "- user _id: A unique id given to the user\n",
    "- song_id: A unique id given to the song\n",
    "- play_count: Number of times the song was played"
   ]
  },
  {
   "cell_type": "code",
   "execution_count": 2,
   "id": "uYVFkxnAQW7H",
   "metadata": {
    "colab": {
     "base_uri": "https://localhost:8080/"
    },
    "id": "uYVFkxnAQW7H",
    "outputId": "f706adc2-dd8e-455a-f4dd-b536c38e0d65"
   },
   "outputs": [
    {
     "name": "stdout",
     "output_type": "stream",
     "text": [
      "Requirement already satisfied: surprise in /Users/jessehendren-mills/Desktop/anaconda3/lib/python3.12/site-packages (0.1)\n",
      "Requirement already satisfied: scikit-surprise in /Users/jessehendren-mills/Desktop/anaconda3/lib/python3.12/site-packages (from surprise) (1.1.4)\n",
      "Requirement already satisfied: joblib>=1.2.0 in /Users/jessehendren-mills/Desktop/anaconda3/lib/python3.12/site-packages (from scikit-surprise->surprise) (1.4.2)\n",
      "Requirement already satisfied: numpy>=1.19.5 in /Users/jessehendren-mills/Desktop/anaconda3/lib/python3.12/site-packages (from scikit-surprise->surprise) (1.26.4)\n",
      "Requirement already satisfied: scipy>=1.6.0 in /Users/jessehendren-mills/Desktop/anaconda3/lib/python3.12/site-packages (from scikit-surprise->surprise) (1.13.1)\n"
     ]
    }
   ],
   "source": [
    "# Installing surprise library\n",
    "!pip install surprise"
   ]
  },
  {
   "cell_type": "code",
   "execution_count": 3,
   "id": "bcb8bac5",
   "metadata": {
    "id": "bcb8bac5"
   },
   "outputs": [],
   "source": [
    "# Basic python libraries\n",
    "import numpy as np\n",
    "import pandas as pd\n",
    "\n",
    "# Python libraries for data visualization\n",
    "import matplotlib.pyplot as plt\n",
    "import seaborn as sns\n",
    "\n",
    "# For implementing matrix factorization based recommendation system\n",
    "from surprise.prediction_algorithms.matrix_factorization import SVD\n",
    "from collections import defaultdict\n",
    "\n",
    "# For implementing cross validation\n",
    "from surprise.model_selection import KFold\n",
    "\n",
    "import warnings\n",
    "warnings.filterwarnings('ignore')"
   ]
  },
  {
   "cell_type": "markdown",
   "id": "462e60ca",
   "metadata": {
    "id": "462e60ca"
   },
   "source": [
    "## **Loading the data**"
   ]
  },
  {
   "cell_type": "code",
   "execution_count": 5,
   "id": "fd91dbb8",
   "metadata": {
    "id": "fd91dbb8"
   },
   "outputs": [],
   "source": [
    "# Reading the datasets\n",
    "song = pd.read_csv(\"song_data.csv\")\n",
    "count = pd.read_csv(\"count_data.csv\")"
   ]
  },
  {
   "cell_type": "markdown",
   "id": "BLKe_h--SHJV",
   "metadata": {
    "id": "BLKe_h--SHJV"
   },
   "source": [
    "## **Exploring the song data**"
   ]
  },
  {
   "cell_type": "code",
   "execution_count": 7,
   "id": "4EgS5SlCRhpZ",
   "metadata": {
    "colab": {
     "base_uri": "https://localhost:8080/",
     "height": 206
    },
    "id": "4EgS5SlCRhpZ",
    "outputId": "8d7744eb-9e79-4db7-8de4-768618b83e4f"
   },
   "outputs": [
    {
     "data": {
      "text/html": [
       "<div>\n",
       "<style scoped>\n",
       "    .dataframe tbody tr th:only-of-type {\n",
       "        vertical-align: middle;\n",
       "    }\n",
       "\n",
       "    .dataframe tbody tr th {\n",
       "        vertical-align: top;\n",
       "    }\n",
       "\n",
       "    .dataframe thead th {\n",
       "        text-align: right;\n",
       "    }\n",
       "</style>\n",
       "<table border=\"1\" class=\"dataframe\">\n",
       "  <thead>\n",
       "    <tr style=\"text-align: right;\">\n",
       "      <th></th>\n",
       "      <th>song_id</th>\n",
       "      <th>title</th>\n",
       "      <th>release</th>\n",
       "      <th>artist_name</th>\n",
       "      <th>year</th>\n",
       "    </tr>\n",
       "  </thead>\n",
       "  <tbody>\n",
       "    <tr>\n",
       "      <th>0</th>\n",
       "      <td>SOQMMHC12AB0180CB8</td>\n",
       "      <td>Silent Night</td>\n",
       "      <td>Monster Ballads X-Mas</td>\n",
       "      <td>Faster Pussy cat</td>\n",
       "      <td>2003</td>\n",
       "    </tr>\n",
       "    <tr>\n",
       "      <th>1</th>\n",
       "      <td>SOVFVAK12A8C1350D9</td>\n",
       "      <td>Tanssi vaan</td>\n",
       "      <td>Karkuteillä</td>\n",
       "      <td>Karkkiautomaatti</td>\n",
       "      <td>1995</td>\n",
       "    </tr>\n",
       "    <tr>\n",
       "      <th>2</th>\n",
       "      <td>SOGTUKN12AB017F4F1</td>\n",
       "      <td>No One Could Ever</td>\n",
       "      <td>Butter</td>\n",
       "      <td>Hudson Mohawke</td>\n",
       "      <td>2006</td>\n",
       "    </tr>\n",
       "    <tr>\n",
       "      <th>3</th>\n",
       "      <td>SOBNYVR12A8C13558C</td>\n",
       "      <td>Si Vos Querés</td>\n",
       "      <td>De Culo</td>\n",
       "      <td>Yerba Brava</td>\n",
       "      <td>2003</td>\n",
       "    </tr>\n",
       "    <tr>\n",
       "      <th>4</th>\n",
       "      <td>SOHSBXH12A8C13B0DF</td>\n",
       "      <td>Tangle Of Aspens</td>\n",
       "      <td>Rene Ablaze Presents Winter Sessions</td>\n",
       "      <td>Der Mystic</td>\n",
       "      <td>0</td>\n",
       "    </tr>\n",
       "  </tbody>\n",
       "</table>\n",
       "</div>"
      ],
      "text/plain": [
       "              song_id              title  \\\n",
       "0  SOQMMHC12AB0180CB8       Silent Night   \n",
       "1  SOVFVAK12A8C1350D9        Tanssi vaan   \n",
       "2  SOGTUKN12AB017F4F1  No One Could Ever   \n",
       "3  SOBNYVR12A8C13558C      Si Vos Querés   \n",
       "4  SOHSBXH12A8C13B0DF   Tangle Of Aspens   \n",
       "\n",
       "                                release       artist_name  year  \n",
       "0                 Monster Ballads X-Mas  Faster Pussy cat  2003  \n",
       "1                           Karkuteillä  Karkkiautomaatti  1995  \n",
       "2                                Butter    Hudson Mohawke  2006  \n",
       "3                               De Culo       Yerba Brava  2003  \n",
       "4  Rene Ablaze Presents Winter Sessions        Der Mystic     0  "
      ]
     },
     "execution_count": 7,
     "metadata": {},
     "output_type": "execute_result"
    }
   ],
   "source": [
    "song.head()"
   ]
  },
  {
   "cell_type": "code",
   "execution_count": 8,
   "id": "f373840a",
   "metadata": {},
   "outputs": [
    {
     "data": {
      "text/html": [
       "<div>\n",
       "<style scoped>\n",
       "    .dataframe tbody tr th:only-of-type {\n",
       "        vertical-align: middle;\n",
       "    }\n",
       "\n",
       "    .dataframe tbody tr th {\n",
       "        vertical-align: top;\n",
       "    }\n",
       "\n",
       "    .dataframe thead th {\n",
       "        text-align: right;\n",
       "    }\n",
       "</style>\n",
       "<table border=\"1\" class=\"dataframe\">\n",
       "  <thead>\n",
       "    <tr style=\"text-align: right;\">\n",
       "      <th></th>\n",
       "      <th>Unnamed: 0</th>\n",
       "      <th>user_id</th>\n",
       "      <th>song_id</th>\n",
       "      <th>play_count</th>\n",
       "    </tr>\n",
       "  </thead>\n",
       "  <tbody>\n",
       "    <tr>\n",
       "      <th>0</th>\n",
       "      <td>0</td>\n",
       "      <td>b80344d063b5ccb3212f76538f3d9e43d87dca9e</td>\n",
       "      <td>SOAKIMP12A8C130995</td>\n",
       "      <td>1</td>\n",
       "    </tr>\n",
       "    <tr>\n",
       "      <th>1</th>\n",
       "      <td>1</td>\n",
       "      <td>b80344d063b5ccb3212f76538f3d9e43d87dca9e</td>\n",
       "      <td>SOBBMDR12A8C13253B</td>\n",
       "      <td>2</td>\n",
       "    </tr>\n",
       "    <tr>\n",
       "      <th>2</th>\n",
       "      <td>2</td>\n",
       "      <td>b80344d063b5ccb3212f76538f3d9e43d87dca9e</td>\n",
       "      <td>SOBXHDL12A81C204C0</td>\n",
       "      <td>1</td>\n",
       "    </tr>\n",
       "    <tr>\n",
       "      <th>3</th>\n",
       "      <td>3</td>\n",
       "      <td>b80344d063b5ccb3212f76538f3d9e43d87dca9e</td>\n",
       "      <td>SOBYHAJ12A6701BF1D</td>\n",
       "      <td>1</td>\n",
       "    </tr>\n",
       "    <tr>\n",
       "      <th>4</th>\n",
       "      <td>4</td>\n",
       "      <td>b80344d063b5ccb3212f76538f3d9e43d87dca9e</td>\n",
       "      <td>SODACBL12A8C13C273</td>\n",
       "      <td>1</td>\n",
       "    </tr>\n",
       "  </tbody>\n",
       "</table>\n",
       "</div>"
      ],
      "text/plain": [
       "   Unnamed: 0                                   user_id             song_id  \\\n",
       "0           0  b80344d063b5ccb3212f76538f3d9e43d87dca9e  SOAKIMP12A8C130995   \n",
       "1           1  b80344d063b5ccb3212f76538f3d9e43d87dca9e  SOBBMDR12A8C13253B   \n",
       "2           2  b80344d063b5ccb3212f76538f3d9e43d87dca9e  SOBXHDL12A81C204C0   \n",
       "3           3  b80344d063b5ccb3212f76538f3d9e43d87dca9e  SOBYHAJ12A6701BF1D   \n",
       "4           4  b80344d063b5ccb3212f76538f3d9e43d87dca9e  SODACBL12A8C13C273   \n",
       "\n",
       "   play_count  \n",
       "0           1  \n",
       "1           2  \n",
       "2           1  \n",
       "3           1  \n",
       "4           1  "
      ]
     },
     "execution_count": 8,
     "metadata": {},
     "output_type": "execute_result"
    }
   ],
   "source": [
    "count.head()"
   ]
  },
  {
   "cell_type": "markdown",
   "id": "7c557756",
   "metadata": {
    "id": "7c557756"
   },
   "source": [
    "**Let's merge the 'song' and 'cont' datasets and then we can choose only the columns relevant to our task.**"
   ]
  },
  {
   "cell_type": "code",
   "execution_count": 10,
   "id": "18f4a196-8c77-4130-8c13-fb2950bc7f8f",
   "metadata": {},
   "outputs": [
    {
     "data": {
      "text/html": [
       "<div>\n",
       "<style scoped>\n",
       "    .dataframe tbody tr th:only-of-type {\n",
       "        vertical-align: middle;\n",
       "    }\n",
       "\n",
       "    .dataframe tbody tr th {\n",
       "        vertical-align: top;\n",
       "    }\n",
       "\n",
       "    .dataframe thead th {\n",
       "        text-align: right;\n",
       "    }\n",
       "</style>\n",
       "<table border=\"1\" class=\"dataframe\">\n",
       "  <thead>\n",
       "    <tr style=\"text-align: right;\">\n",
       "      <th></th>\n",
       "      <th>Song ID</th>\n",
       "      <th>Song Title</th>\n",
       "      <th>Album</th>\n",
       "      <th>Artist</th>\n",
       "      <th>Year</th>\n",
       "      <th>User ID</th>\n",
       "      <th>Times Played</th>\n",
       "    </tr>\n",
       "  </thead>\n",
       "  <tbody>\n",
       "    <tr>\n",
       "      <th>245</th>\n",
       "      <td>SOSZNRJ12A8AE46E38</td>\n",
       "      <td>Anyone Else But You</td>\n",
       "      <td>Juno - Music From The Motion Picture</td>\n",
       "      <td>Michael Cera &amp; Ellen Page</td>\n",
       "      <td>2007</td>\n",
       "      <td>d6589314c0a9bcbca4fee0c93b14bc402363afea</td>\n",
       "      <td>6.0</td>\n",
       "    </tr>\n",
       "    <tr>\n",
       "      <th>246</th>\n",
       "      <td>SOSZNRJ12A8AE46E38</td>\n",
       "      <td>Anyone Else But You</td>\n",
       "      <td>Juno - Music From The Motion Picture</td>\n",
       "      <td>Michael Cera &amp; Ellen Page</td>\n",
       "      <td>2007</td>\n",
       "      <td>484b69dd013df1ec0cfd504886d4f647cb32b08f</td>\n",
       "      <td>1.0</td>\n",
       "    </tr>\n",
       "    <tr>\n",
       "      <th>247</th>\n",
       "      <td>SOSZNRJ12A8AE46E38</td>\n",
       "      <td>Anyone Else But You</td>\n",
       "      <td>Juno - Music From The Motion Picture</td>\n",
       "      <td>Michael Cera &amp; Ellen Page</td>\n",
       "      <td>2007</td>\n",
       "      <td>3f9ed694a79835c921ef6d94acd28f876c1d901e</td>\n",
       "      <td>4.0</td>\n",
       "    </tr>\n",
       "    <tr>\n",
       "      <th>248</th>\n",
       "      <td>SOSZNRJ12A8AE46E38</td>\n",
       "      <td>Anyone Else But You</td>\n",
       "      <td>Juno - Music From The Motion Picture</td>\n",
       "      <td>Michael Cera &amp; Ellen Page</td>\n",
       "      <td>2007</td>\n",
       "      <td>b882a5b0dbd1a80533e40745be976f19d1fad5b0</td>\n",
       "      <td>1.0</td>\n",
       "    </tr>\n",
       "    <tr>\n",
       "      <th>249</th>\n",
       "      <td>SOSZNRJ12A8AE46E38</td>\n",
       "      <td>Anyone Else But You</td>\n",
       "      <td>Juno - Music From The Motion Picture</td>\n",
       "      <td>Michael Cera &amp; Ellen Page</td>\n",
       "      <td>2007</td>\n",
       "      <td>2bcef2a30bd8913405971761a0e6c292d771c086</td>\n",
       "      <td>1.0</td>\n",
       "    </tr>\n",
       "  </tbody>\n",
       "</table>\n",
       "</div>"
      ],
      "text/plain": [
       "                Song ID           Song Title  \\\n",
       "245  SOSZNRJ12A8AE46E38  Anyone Else But You   \n",
       "246  SOSZNRJ12A8AE46E38  Anyone Else But You   \n",
       "247  SOSZNRJ12A8AE46E38  Anyone Else But You   \n",
       "248  SOSZNRJ12A8AE46E38  Anyone Else But You   \n",
       "249  SOSZNRJ12A8AE46E38  Anyone Else But You   \n",
       "\n",
       "                                    Album                     Artist  Year  \\\n",
       "245  Juno - Music From The Motion Picture  Michael Cera & Ellen Page  2007   \n",
       "246  Juno - Music From The Motion Picture  Michael Cera & Ellen Page  2007   \n",
       "247  Juno - Music From The Motion Picture  Michael Cera & Ellen Page  2007   \n",
       "248  Juno - Music From The Motion Picture  Michael Cera & Ellen Page  2007   \n",
       "249  Juno - Music From The Motion Picture  Michael Cera & Ellen Page  2007   \n",
       "\n",
       "                                      User ID  Times Played  \n",
       "245  d6589314c0a9bcbca4fee0c93b14bc402363afea           6.0  \n",
       "246  484b69dd013df1ec0cfd504886d4f647cb32b08f           1.0  \n",
       "247  3f9ed694a79835c921ef6d94acd28f876c1d901e           4.0  \n",
       "248  b882a5b0dbd1a80533e40745be976f19d1fad5b0           1.0  \n",
       "249  2bcef2a30bd8913405971761a0e6c292d771c086           1.0  "
      ]
     },
     "execution_count": 10,
     "metadata": {},
     "output_type": "execute_result"
    }
   ],
   "source": [
    "df = pd.merge(song, count, on=\"song_id\", how=\"left\")\n",
    "df.drop(['Unnamed: 0'], axis =1, inplace = True)\n",
    "\n",
    "# Rename the column names of the dataframe\n",
    "df.rename(columns = {'user_id':'User ID', \n",
    "                     'song_id':'Song ID', \n",
    "                     'play_count':'Times Played', \n",
    "                     'artist_name':'Artist',\n",
    "                     'title':'Song Title',\n",
    "                     'release':'Album',\n",
    "                     'year':'Year'}, inplace = True)\n",
    "\n",
    "#Removed null values from the data set as they add no value\n",
    "df = df.dropna(axis=0) \n",
    "\n",
    "df.head()"
   ]
  },
  {
   "cell_type": "code",
   "execution_count": 11,
   "id": "WKFfGqRkSNnR",
   "metadata": {
    "colab": {
     "base_uri": "https://localhost:8080/"
    },
    "id": "WKFfGqRkSNnR",
    "outputId": "69f1054e-0a3e-4c8a-ca7b-5330a97927be"
   },
   "outputs": [
    {
     "name": "stdout",
     "output_type": "stream",
     "text": [
      "<class 'pandas.core.frame.DataFrame'>\n",
      "Index: 2086946 entries, 245 to 3076535\n",
      "Data columns (total 7 columns):\n",
      " #   Column        Dtype  \n",
      "---  ------        -----  \n",
      " 0   Song ID       object \n",
      " 1   Song Title    object \n",
      " 2   Album         object \n",
      " 3   Artist        object \n",
      " 4   Year          int64  \n",
      " 5   User ID       object \n",
      " 6   Times Played  float64\n",
      "dtypes: float64(1), int64(1), object(5)\n",
      "memory usage: 127.4+ MB\n"
     ]
    }
   ],
   "source": [
    "# Checking the info of the data\n",
    "df.info()"
   ]
  },
  {
   "cell_type": "markdown",
   "id": "w3rdN_PPWaRL",
   "metadata": {
    "id": "w3rdN_PPWaRL"
   },
   "source": [
    "**Observations:**\n",
    "\n",
    "- The df data contains **3,076,677** observations and **7** columns.\n",
    "- df contained **989,731** records with a null value and have been removed from the data set\n",
    "- The 'user id' and 'song id' columns are both of **object data type**."
   ]
  },
  {
   "cell_type": "markdown",
   "id": "ab3584b3",
   "metadata": {},
   "source": [
    "### **Checking distribution of Times Played**"
   ]
  },
  {
   "cell_type": "code",
   "execution_count": 14,
   "id": "kb66wryT9qVF",
   "metadata": {
    "colab": {
     "base_uri": "https://localhost:8080/",
     "height": 293
    },
    "id": "kb66wryT9qVF",
    "outputId": "825d66b8-f680-485e-fa99-374fe5faa71b"
   },
   "outputs": [
    {
     "data": {
      "image/png": "[encoded data removed]",
      "text/plain": [
       "<Figure size 1200x400 with 1 Axes>"
      ]
     },
     "metadata": {},
     "output_type": "display_data"
    }
   ],
   "source": [
    "# Distribution of ratings\n",
    "plt.figure(figsize = (12, 4))\n",
    "sns.countplot(x=\"Times Played\", data=df)\n",
    "\n",
    "plt.tick_params(labelsize = 10)\n",
    "plt.title(\"Distribution of Times Played \", fontsize = 10)\n",
    "plt.xlabel(\"Times Played\", fontsize = 10)\n",
    "plt.ylabel(\"Frequency\", fontsize = 10)\n",
    "plt.show()"
   ]
  },
  {
   "cell_type": "markdown",
   "id": "-57mhIwdksgr",
   "metadata": {
    "id": "-57mhIwdksgr"
   },
   "source": [
    "**Observations:**\n",
    "- As per the histogram, a few songs are highly listened to by many users which we can assume are the popular or main stream songs, and the majority of the other songs are not listened to as frequently.\n",
    "- This helps us match what some people like and see if they would like another song."
   ]
  },
  {
   "cell_type": "code",
   "execution_count": 16,
   "id": "id6eLatCSM4N",
   "metadata": {
    "colab": {
     "base_uri": "https://localhost:8080/"
    },
    "id": "id6eLatCSM4N",
    "outputId": "df33215d-7745-4595-ff37-3befc9e0cb03"
   },
   "outputs": [
    {
     "data": {
      "text/plain": [
       "76353"
      ]
     },
     "execution_count": 16,
     "metadata": {},
     "output_type": "execute_result"
    }
   ],
   "source": [
    "# Finding the number of unique users\n",
    "df['User ID'].nunique()"
   ]
  },
  {
   "cell_type": "code",
   "execution_count": 17,
   "id": "8a951080",
   "metadata": {
    "colab": {
     "base_uri": "https://localhost:8080/"
    },
    "id": "8a951080",
    "outputId": "ee5f9743-e654-4ffa-cab1-a79a577611c6"
   },
   "outputs": [
    {
     "data": {
      "text/plain": [
       "10000"
      ]
     },
     "execution_count": 17,
     "metadata": {},
     "output_type": "execute_result"
    }
   ],
   "source": [
    "# Finding the number of unique songs\n",
    "df['Song ID'].nunique()"
   ]
  },
  {
   "cell_type": "markdown",
   "id": "Br8_JTxlXkor",
   "metadata": {
    "id": "Br8_JTxlXkor"
   },
   "source": [
    "**Observations:**\n",
    "- There are **10,000 songs** in the dataset.\n",
    "- There are **76,353 users** in the dataset."
   ]
  },
  {
   "cell_type": "code",
   "execution_count": 19,
   "id": "MmKRLghiXOGU",
   "metadata": {
    "colab": {
     "base_uri": "https://localhost:8080/",
     "height": 455
    },
    "id": "MmKRLghiXOGU",
    "outputId": "8a713020-3635-404c-84dc-1f0ae988a129"
   },
   "outputs": [
    {
     "data": {
      "text/html": [
       "<div>\n",
       "<style scoped>\n",
       "    .dataframe tbody tr th:only-of-type {\n",
       "        vertical-align: middle;\n",
       "    }\n",
       "\n",
       "    .dataframe tbody tr th {\n",
       "        vertical-align: top;\n",
       "    }\n",
       "\n",
       "    .dataframe thead th {\n",
       "        text-align: right;\n",
       "    }\n",
       "</style>\n",
       "<table border=\"1\" class=\"dataframe\">\n",
       "  <thead>\n",
       "    <tr style=\"text-align: right;\">\n",
       "      <th></th>\n",
       "      <th></th>\n",
       "      <th>Song Title</th>\n",
       "      <th>Album</th>\n",
       "      <th>Artist</th>\n",
       "      <th>Year</th>\n",
       "      <th>Times Played</th>\n",
       "    </tr>\n",
       "    <tr>\n",
       "      <th>User ID</th>\n",
       "      <th>Song ID</th>\n",
       "      <th></th>\n",
       "      <th></th>\n",
       "      <th></th>\n",
       "      <th></th>\n",
       "      <th></th>\n",
       "    </tr>\n",
       "  </thead>\n",
       "  <tbody>\n",
       "    <tr>\n",
       "      <th rowspan=\"5\" valign=\"top\">00003a4459f33b92906be11abe0e93efc423c0ff</th>\n",
       "      <th>SOJJRVI12A6D4FBE49</th>\n",
       "      <td>1</td>\n",
       "      <td>1</td>\n",
       "      <td>1</td>\n",
       "      <td>1</td>\n",
       "      <td>1</td>\n",
       "    </tr>\n",
       "    <tr>\n",
       "      <th>SOKJWZB12A6D4F9487</th>\n",
       "      <td>1</td>\n",
       "      <td>1</td>\n",
       "      <td>1</td>\n",
       "      <td>1</td>\n",
       "      <td>1</td>\n",
       "    </tr>\n",
       "    <tr>\n",
       "      <th>SOMZHIH12A8AE45D00</th>\n",
       "      <td>1</td>\n",
       "      <td>1</td>\n",
       "      <td>1</td>\n",
       "      <td>1</td>\n",
       "      <td>1</td>\n",
       "    </tr>\n",
       "    <tr>\n",
       "      <th>SONFEUF12AAF3B47E3</th>\n",
       "      <td>1</td>\n",
       "      <td>1</td>\n",
       "      <td>1</td>\n",
       "      <td>1</td>\n",
       "      <td>1</td>\n",
       "    </tr>\n",
       "    <tr>\n",
       "      <th>SOVMGXI12AF72A80B0</th>\n",
       "      <td>1</td>\n",
       "      <td>1</td>\n",
       "      <td>1</td>\n",
       "      <td>1</td>\n",
       "      <td>1</td>\n",
       "    </tr>\n",
       "    <tr>\n",
       "      <th>...</th>\n",
       "      <th>...</th>\n",
       "      <td>...</td>\n",
       "      <td>...</td>\n",
       "      <td>...</td>\n",
       "      <td>...</td>\n",
       "      <td>...</td>\n",
       "    </tr>\n",
       "    <tr>\n",
       "      <th rowspan=\"5\" valign=\"top\">fffea3d509760c984e7d40789804c0e5e289cc86</th>\n",
       "      <th>SOUBKFT12A6701F07A</th>\n",
       "      <td>1</td>\n",
       "      <td>1</td>\n",
       "      <td>1</td>\n",
       "      <td>1</td>\n",
       "      <td>1</td>\n",
       "    </tr>\n",
       "    <tr>\n",
       "      <th>SOVPBLT12A6D4F5113</th>\n",
       "      <td>1</td>\n",
       "      <td>1</td>\n",
       "      <td>1</td>\n",
       "      <td>1</td>\n",
       "      <td>1</td>\n",
       "    </tr>\n",
       "    <tr>\n",
       "      <th>SOVRQIK12A6701F118</th>\n",
       "      <td>1</td>\n",
       "      <td>1</td>\n",
       "      <td>1</td>\n",
       "      <td>1</td>\n",
       "      <td>1</td>\n",
       "    </tr>\n",
       "    <tr>\n",
       "      <th>SOWEBRA12A6701F115</th>\n",
       "      <td>1</td>\n",
       "      <td>1</td>\n",
       "      <td>1</td>\n",
       "      <td>1</td>\n",
       "      <td>1</td>\n",
       "    </tr>\n",
       "    <tr>\n",
       "      <th>SOZMNAX12A58A77F88</th>\n",
       "      <td>1</td>\n",
       "      <td>1</td>\n",
       "      <td>1</td>\n",
       "      <td>1</td>\n",
       "      <td>1</td>\n",
       "    </tr>\n",
       "  </tbody>\n",
       "</table>\n",
       "<p>2000000 rows × 5 columns</p>\n",
       "</div>"
      ],
      "text/plain": [
       "                                                             Song Title  \\\n",
       "User ID                                  Song ID                          \n",
       "00003a4459f33b92906be11abe0e93efc423c0ff SOJJRVI12A6D4FBE49           1   \n",
       "                                         SOKJWZB12A6D4F9487           1   \n",
       "                                         SOMZHIH12A8AE45D00           1   \n",
       "                                         SONFEUF12AAF3B47E3           1   \n",
       "                                         SOVMGXI12AF72A80B0           1   \n",
       "...                                                                 ...   \n",
       "fffea3d509760c984e7d40789804c0e5e289cc86 SOUBKFT12A6701F07A           1   \n",
       "                                         SOVPBLT12A6D4F5113           1   \n",
       "                                         SOVRQIK12A6701F118           1   \n",
       "                                         SOWEBRA12A6701F115           1   \n",
       "                                         SOZMNAX12A58A77F88           1   \n",
       "\n",
       "                                                             Album  Artist  \\\n",
       "User ID                                  Song ID                             \n",
       "00003a4459f33b92906be11abe0e93efc423c0ff SOJJRVI12A6D4FBE49      1       1   \n",
       "                                         SOKJWZB12A6D4F9487      1       1   \n",
       "                                         SOMZHIH12A8AE45D00      1       1   \n",
       "                                         SONFEUF12AAF3B47E3      1       1   \n",
       "                                         SOVMGXI12AF72A80B0      1       1   \n",
       "...                                                            ...     ...   \n",
       "fffea3d509760c984e7d40789804c0e5e289cc86 SOUBKFT12A6701F07A      1       1   \n",
       "                                         SOVPBLT12A6D4F5113      1       1   \n",
       "                                         SOVRQIK12A6701F118      1       1   \n",
       "                                         SOWEBRA12A6701F115      1       1   \n",
       "                                         SOZMNAX12A58A77F88      1       1   \n",
       "\n",
       "                                                             Year  \\\n",
       "User ID                                  Song ID                    \n",
       "00003a4459f33b92906be11abe0e93efc423c0ff SOJJRVI12A6D4FBE49     1   \n",
       "                                         SOKJWZB12A6D4F9487     1   \n",
       "                                         SOMZHIH12A8AE45D00     1   \n",
       "                                         SONFEUF12AAF3B47E3     1   \n",
       "                                         SOVMGXI12AF72A80B0     1   \n",
       "...                                                           ...   \n",
       "fffea3d509760c984e7d40789804c0e5e289cc86 SOUBKFT12A6701F07A     1   \n",
       "                                         SOVPBLT12A6D4F5113     1   \n",
       "                                         SOVRQIK12A6701F118     1   \n",
       "                                         SOWEBRA12A6701F115     1   \n",
       "                                         SOZMNAX12A58A77F88     1   \n",
       "\n",
       "                                                             Times Played  \n",
       "User ID                                  Song ID                           \n",
       "00003a4459f33b92906be11abe0e93efc423c0ff SOJJRVI12A6D4FBE49             1  \n",
       "                                         SOKJWZB12A6D4F9487             1  \n",
       "                                         SOMZHIH12A8AE45D00             1  \n",
       "                                         SONFEUF12AAF3B47E3             1  \n",
       "                                         SOVMGXI12AF72A80B0             1  \n",
       "...                                                                   ...  \n",
       "fffea3d509760c984e7d40789804c0e5e289cc86 SOUBKFT12A6701F07A             1  \n",
       "                                         SOVPBLT12A6D4F5113             1  \n",
       "                                         SOVRQIK12A6701F118             1  \n",
       "                                         SOWEBRA12A6701F115             1  \n",
       "                                         SOZMNAX12A58A77F88             1  \n",
       "\n",
       "[2000000 rows x 5 columns]"
      ]
     },
     "execution_count": 19,
     "metadata": {},
     "output_type": "execute_result"
    }
   ],
   "source": [
    "df.groupby(['User ID', 'Song ID']).count()"
   ]
  },
  {
   "cell_type": "code",
   "execution_count": 20,
   "id": "5b063OhmXlxr",
   "metadata": {
    "colab": {
     "base_uri": "https://localhost:8080/"
    },
    "id": "5b063OhmXlxr",
    "outputId": "f4a092d5-1e87-4778-f073-a7f7171ada23"
   },
   "outputs": [
    {
     "data": {
      "text/plain": [
       "2086946"
      ]
     },
     "execution_count": 20,
     "metadata": {},
     "output_type": "execute_result"
    }
   ],
   "source": [
    "df.groupby(['User ID', 'Song ID']).count()['Times Played'].sum()"
   ]
  },
  {
   "cell_type": "markdown",
   "id": "1wCzbygSYjyu",
   "metadata": {
    "id": "1wCzbygSYjyu"
   },
   "source": [
    "**Observation:**\n",
    "- The **sum is equal to the total number of observations**, which implies that **there is only one interaction between a song and a user**."
   ]
  },
  {
   "cell_type": "markdown",
   "id": "A0nNz6WBZlDl",
   "metadata": {
    "id": "A0nNz6WBZlDl"
   },
   "source": [
    "#### Which song was listened to the most in the dataset?"
   ]
  },
  {
   "cell_type": "code",
   "execution_count": 23,
   "id": "ErNU3QI8Xl0T",
   "metadata": {
    "colab": {
     "base_uri": "https://localhost:8080/"
    },
    "id": "ErNU3QI8Xl0T",
    "outputId": "549f8e48-0be2-4d66-c440-9bfc8b23389e"
   },
   "outputs": [
    {
     "data": {
      "text/plain": [
       "Song ID\n",
       "SOFRQTD12A81C233C0    8277\n",
       "SOWCKVR12A8C142411    7952\n",
       "SOAUWYT12A81C206F1    7032\n",
       "SOAXGDH12A8C13F8A1    6949\n",
       "SOBONKR12A58A7A7E0    6412\n",
       "                      ... \n",
       "SOWNLZF12A58A79811      51\n",
       "SOLIGVL12AB017DBAE      51\n",
       "SOBPGWB12A6D4F7EF3      50\n",
       "SOGSPGJ12A8C134FAA      48\n",
       "SOYYBJJ12AB017E9FD      48\n",
       "Name: count, Length: 10000, dtype: int64"
      ]
     },
     "execution_count": 23,
     "metadata": {},
     "output_type": "execute_result"
    }
   ],
   "source": [
    "# Finding the most rated books in the dataset\n",
    "df['Song ID'].value_counts()"
   ]
  },
  {
   "cell_type": "markdown",
   "id": "Zv_NKAKCZyjh",
   "metadata": {
    "id": "Zv_NKAKCZyjh"
   },
   "source": [
    "**Observations:**\n",
    "- The **Song with song_Id: SOFRQTD12A81C233C0 has been interacted by most users**( **8,277**)."
   ]
  },
  {
   "cell_type": "code",
   "execution_count": 25,
   "id": "UgoO6MYuXl2g",
   "metadata": {
    "colab": {
     "base_uri": "https://localhost:8080/",
     "height": 445
    },
    "id": "UgoO6MYuXl2g",
    "outputId": "52884f82-1326-43a7-a5d0-56b3aee3a3ab"
   },
   "outputs": [
    {
     "data": {
      "image/png": "[encoded data removed]",
      "text/plain": [
       "<Figure size 700x700 with 1 Axes>"
      ]
     },
     "metadata": {},
     "output_type": "display_data"
    }
   ],
   "source": [
    "# Plotting distributions of ratings for the most interacted book\n",
    "\n",
    "plt.figure(figsize=(7,7))\n",
    "\n",
    "df[df['Song ID'] == 'SOFRQTD12A81C233C0']['Times Played'].value_counts().plot(kind='bar')\n",
    "\n",
    "plt.xlabel('Times Played')\n",
    "\n",
    "plt.ylabel('Count')\n",
    "plt.show()"
   ]
  },
  {
   "cell_type": "markdown",
   "id": "sIHzQxZWenov",
   "metadata": {
    "id": "sIHzQxZWenov"
   },
   "source": [
    "**Observations:**\n",
    "\n",
    "- We can see that the majority of the times played for this song is less than 10 but some users have heard this song over 100 times.\n",
    "- This could be a good song to leverage when trying to tie other songs to other users within our model."
   ]
  },
  {
   "cell_type": "code",
   "execution_count": 27,
   "id": "r-_UHDi4enBb",
   "metadata": {
    "colab": {
     "base_uri": "https://localhost:8080/"
    },
    "id": "r-_UHDi4enBb",
    "outputId": "c79cfe75-a554-4ca9-a924-8f83642ff62d"
   },
   "outputs": [
    {
     "data": {
      "text/plain": [
       "User ID\n",
       "6d625c6557df84b60d90426c0116138b617b9449    724\n",
       "fbee1c8ce1a346fa07d2ef648cec81117438b91f    687\n",
       "4e11f45d732f4861772b2906f81a7d384552ad12    576\n",
       "1aa4fd215aadb160965110ed8a829745cde319eb    545\n",
       "24b98f8ab023f6e7a1c37c7729c623f7b821eb95    545\n",
       "                                           ... \n",
       "a31bdef685c2b0da040c57a624f107ce6eccb1ca      1\n",
       "dce9f5393723c084e58fa2eca06cfc512a656126      1\n",
       "eb9bd44687aa837d922281ae06b8b6ac46d3a07b      1\n",
       "b6552c15cedbcec2e997c5aca579e1a0f7b1055a      1\n",
       "656835bcc43811f0495f1b33f40891a074882657      1\n",
       "Name: count, Length: 76353, dtype: int64"
      ]
     },
     "execution_count": 27,
     "metadata": {},
     "output_type": "execute_result"
    }
   ],
   "source": [
    "df['User ID'].value_counts()"
   ]
  },
  {
   "cell_type": "markdown",
   "id": "v23L3NUwu6FV",
   "metadata": {
    "id": "v23L3NUwu6FV"
   },
   "source": [
    "**Observations:**\n",
    "\n",
    "- The user with **user_id: 6d625c6557df84b60d90426c0116138b617b9449** has interacted with the most number of songs, i.e., **724** times."
   ]
  },
  {
   "cell_type": "markdown",
   "id": "4d45d5e6",
   "metadata": {},
   "source": [
    "## **Data Preparation**"
   ]
  },
  {
   "cell_type": "code",
   "execution_count": 30,
   "id": "0pnCxxsbXOJE",
   "metadata": {
    "id": "0pnCxxsbXOJE"
   },
   "outputs": [],
   "source": [
    "# Get the column containing the users\n",
    "users = df['User ID']\n",
    "# Create a dictionary from users to find their number of songs\n",
    "tp_count = dict()\n",
    "for user in users:\n",
    "    # If we already have the user, just add 1 to their Times Played count\n",
    "    if user in tp_count:\n",
    "        tp_count[user] += 1.0\n",
    "    # Otherwise, set their rating count to 1\n",
    "    else:\n",
    "        tp_count[user] = 1.0    "
   ]
  },
  {
   "cell_type": "code",
   "execution_count": 31,
   "id": "kJOHn3Ik02O8",
   "metadata": {
    "id": "kJOHn3Ik02O8"
   },
   "outputs": [],
   "source": [
    "# We want our users to have at least 50 ratings to be considered\n",
    "TP_CUTOFF = 10.0\n",
    "remove_users = []\n",
    "for user, num_ratings in tp_count.items():\n",
    "    if num_ratings < TP_CUTOFF:\n",
    "        remove_users.append(user)\n",
    "df = df.loc[~df['User ID'].isin(remove_users)]"
   ]
  },
  {
   "cell_type": "code",
   "execution_count": 32,
   "id": "LIoNRnSP3cQQ",
   "metadata": {
    "colab": {
     "base_uri": "https://localhost:8080/"
    },
    "id": "LIoNRnSP3cQQ",
    "outputId": "b78aa683-7dff-4c2f-8821-82e4fba72973"
   },
   "outputs": [
    {
     "data": {
      "text/plain": [
       "(1968752, 7)"
      ]
     },
     "execution_count": 32,
     "metadata": {},
     "output_type": "execute_result"
    }
   ],
   "source": [
    "df.shape"
   ]
  },
  {
   "cell_type": "code",
   "execution_count": 33,
   "id": "d8BWjYyO3lLG",
   "metadata": {
    "id": "d8BWjYyO3lLG"
   },
   "outputs": [],
   "source": [
    "# Get the column containing the songs\n",
    "songs = df['Song ID']\n",
    "# Create a dictionary from song to find their number of users\n",
    "tp_count = dict()\n",
    "for song in songs:\n",
    "    # If we already have the song, just add 1 to their Times Played count\n",
    "    if song in tp_count:\n",
    "        tp_count[song] += 1.0\n",
    "    # Otherwise, set their rating count to 1\n",
    "    else:\n",
    "        tp_count[song] = 1.0    "
   ]
  },
  {
   "cell_type": "code",
   "execution_count": 34,
   "id": "QxoiWgKn02a1",
   "metadata": {
    "id": "QxoiWgKn02a1"
   },
   "outputs": [],
   "source": [
    "# We want our book to be interacted by at least 10 users to be considered\n",
    "TP_CUTOFF = 10\n",
    "remove_songs = []\n",
    "for song, num_ratings in tp_count.items():\n",
    "    if num_ratings < TP_CUTOFF:\n",
    "        remove_songs.append(song)\n",
    "df= df.loc[~df['Song ID'].isin(remove_songs)]"
   ]
  },
  {
   "cell_type": "code",
   "execution_count": 35,
   "id": "zoeqZNvf02rB",
   "metadata": {
    "colab": {
     "base_uri": "https://localhost:8080/"
    },
    "id": "zoeqZNvf02rB",
    "outputId": "45955e9e-9f87-4146-9120-ff764cca573a"
   },
   "outputs": [
    {
     "data": {
      "text/plain": [
       "(1968752, 7)"
      ]
     },
     "execution_count": 35,
     "metadata": {},
     "output_type": "execute_result"
    }
   ],
   "source": [
    "df.shape"
   ]
  },
  {
   "cell_type": "markdown",
   "id": "4HD6qgHT4Ivu",
   "metadata": {
    "id": "4HD6qgHT4Ivu"
   },
   "source": [
    "### **Distribution of the user-books interactions in the dataset**"
   ]
  },
  {
   "cell_type": "code",
   "execution_count": 37,
   "id": "_DS9eP874AWJ",
   "metadata": {
    "colab": {
     "base_uri": "https://localhost:8080/"
    },
    "id": "_DS9eP874AWJ",
    "outputId": "fdc514a5-b3fd-4d77-ed38-17df6c193e83"
   },
   "outputs": [
    {
     "data": {
      "text/plain": [
       "Song ID         10000\n",
       "Song Title       9593\n",
       "Album            5445\n",
       "Artist           3379\n",
       "Year               58\n",
       "User ID         56584\n",
       "Times Played      292\n",
       "dtype: int64"
      ]
     },
     "execution_count": 37,
     "metadata": {},
     "output_type": "execute_result"
    }
   ],
   "source": [
    "df.nunique()"
   ]
  },
  {
   "cell_type": "code",
   "execution_count": 38,
   "id": "wwGmj5DY4TKO",
   "metadata": {
    "colab": {
     "base_uri": "https://localhost:8080/"
    },
    "id": "wwGmj5DY4TKO",
    "outputId": "47d3d18d-ddbc-45a2-94d4-4b50b253557b"
   },
   "outputs": [
    {
     "data": {
      "text/plain": [
       "User ID\n",
       "0007235c769e610e3d339a17818a5708e41008d9    10\n",
       "000a5c8b4d8b2c98f7a205219181d039edcd4506    14\n",
       "000b474f815bcff17a4bc9ce5324f9352dafe07d    11\n",
       "000d2df2cb8ad7300f89512f8fe8fadc4f99e733    11\n",
       "000e2c2a8c7870ff9121f212b35c8b3a20cc0e67    59\n",
       "                                            ..\n",
       "fffc0df75a48d823ad5abfaf2a1ee61eb1e3302c    95\n",
       "fffce9c1537fbc350ea68823d956eaa8f5236dbe    44\n",
       "fffd6a2bdef646ce9898b628d5dd56c43df69a9d    11\n",
       "fffd9635b33f412de8ed02e44e6564e3644cf3c6    17\n",
       "fffea3d509760c984e7d40789804c0e5e289cc86    24\n",
       "Name: Song ID, Length: 56584, dtype: int64"
      ]
     },
     "execution_count": 38,
     "metadata": {},
     "output_type": "execute_result"
    }
   ],
   "source": [
    "# Finding user-songs interactions distribution\n",
    "count_interactions = df.groupby('User ID').count()['Song ID']\n",
    "count_interactions"
   ]
  },
  {
   "cell_type": "code",
   "execution_count": 39,
   "id": "7ZcsJbzb6BIX",
   "metadata": {
    "colab": {
     "base_uri": "https://localhost:8080/",
     "height": 442
    },
    "id": "7ZcsJbzb6BIX",
    "outputId": "f776250a-52b7-4743-8d73-6f22a560d9d4"
   },
   "outputs": [
    {
     "data": {
      "image/png": "[encoded data removed]",
      "text/plain": [
       "<Figure size 1500x700 with 1 Axes>"
      ]
     },
     "metadata": {},
     "output_type": "display_data"
    }
   ],
   "source": [
    "# Plotting user-item interactions distribution\n",
    "\n",
    "plt.figure(figsize=(15,7))\n",
    "\n",
    "sns.histplot(count_interactions)\n",
    "\n",
    "plt.xlabel('Number of Interactions by Users')\n",
    "\n",
    "plt.show()"
   ]
  },
  {
   "cell_type": "markdown",
   "id": "XZ7ISu5rI6zB",
   "metadata": {
    "id": "XZ7ISu5rI6zB"
   },
   "source": [
    "**Observations:**\n",
    "\n",
    "- The distribution is highly skewed to the left.\n",
    "- It clearly shows that there are very few songs which are played beyond 100 times."
   ]
  },
  {
   "cell_type": "markdown",
   "id": "3SiTfmJzJJW7",
   "metadata": {
    "id": "3SiTfmJzJJW7"
   },
   "source": [
    "**As we have now explored the data, let's start building Recommendation Systems**"
   ]
  },
  {
   "cell_type": "markdown",
   "id": "aISxUcit7hmB",
   "metadata": {
    "id": "aISxUcit7hmB"
   },
   "source": [
    "## **Model 1: Create Rank-Based Recommendation System**\n",
    "\n",
    "- Rank-based recommendation systems provide recommendations based on the most popular items. This kind of recommendation system is useful when we have cold start problems. Cold start refers to the issue when we get a new user into the system and the machine is not able to recommend book to the new user, as the user did not have any historical interactions in the dataset. In those cases, we can use rank-based recommendation system to recommend songs to the new user.\n",
    "\n",
    "- To build the rank-based recommendation system, we take average of all the ratings provided to each book and then rank them based on the number of times they have been played."
   ]
  },
  {
   "cell_type": "code",
   "execution_count": 43,
   "id": "FzbxIeuR6HE4",
   "metadata": {
    "id": "FzbxIeuR6HE4"
   },
   "outputs": [],
   "source": [
    "# Calculating Max Times Played\n",
    "max_Played = df.groupby('Song ID').max()['Times Played']\n",
    "\n",
    "# Calculating the count of Times Played\n",
    "count_Played = df.groupby('Song ID').count()['Times Played']\n",
    "\n",
    "# Making a dataframe with the count and max of times played\n",
    "final_rating = pd.DataFrame({'max_tp':max_Played, 'count_tp':count_Played})"
   ]
  },
  {
   "cell_type": "code",
   "execution_count": 44,
   "id": "7r9ua1fl90jv",
   "metadata": {
    "colab": {
     "base_uri": "https://localhost:8080/",
     "height": 237
    },
    "id": "7r9ua1fl90jv",
    "outputId": "e77347cc-803a-4705-b18c-991b7dfeaa76"
   },
   "outputs": [
    {
     "data": {
      "text/html": [
       "<div>\n",
       "<style scoped>\n",
       "    .dataframe tbody tr th:only-of-type {\n",
       "        vertical-align: middle;\n",
       "    }\n",
       "\n",
       "    .dataframe tbody tr th {\n",
       "        vertical-align: top;\n",
       "    }\n",
       "\n",
       "    .dataframe thead th {\n",
       "        text-align: right;\n",
       "    }\n",
       "</style>\n",
       "<table border=\"1\" class=\"dataframe\">\n",
       "  <thead>\n",
       "    <tr style=\"text-align: right;\">\n",
       "      <th></th>\n",
       "      <th>max_tp</th>\n",
       "      <th>count_tp</th>\n",
       "    </tr>\n",
       "    <tr>\n",
       "      <th>Song ID</th>\n",
       "      <th></th>\n",
       "      <th></th>\n",
       "    </tr>\n",
       "  </thead>\n",
       "  <tbody>\n",
       "    <tr>\n",
       "      <th>SOAAAGQ12A8C1420C8</th>\n",
       "      <td>35.0</td>\n",
       "      <td>61</td>\n",
       "    </tr>\n",
       "    <tr>\n",
       "      <th>SOAACPJ12A81C21360</th>\n",
       "      <td>26.0</td>\n",
       "      <td>141</td>\n",
       "    </tr>\n",
       "    <tr>\n",
       "      <th>SOAACSG12AB018DC80</th>\n",
       "      <td>26.0</td>\n",
       "      <td>62</td>\n",
       "    </tr>\n",
       "    <tr>\n",
       "      <th>SOAAEJI12AB0188AB5</th>\n",
       "      <td>12.0</td>\n",
       "      <td>59</td>\n",
       "    </tr>\n",
       "    <tr>\n",
       "      <th>SOAAFAC12A67ADF7EB</th>\n",
       "      <td>23.0</td>\n",
       "      <td>184</td>\n",
       "    </tr>\n",
       "  </tbody>\n",
       "</table>\n",
       "</div>"
      ],
      "text/plain": [
       "                    max_tp  count_tp\n",
       "Song ID                             \n",
       "SOAAAGQ12A8C1420C8    35.0        61\n",
       "SOAACPJ12A81C21360    26.0       141\n",
       "SOAACSG12AB018DC80    26.0        62\n",
       "SOAAEJI12AB0188AB5    12.0        59\n",
       "SOAAFAC12A67ADF7EB    23.0       184"
      ]
     },
     "execution_count": 44,
     "metadata": {},
     "output_type": "execute_result"
    }
   ],
   "source": [
    "final_rating.head()"
   ]
  },
  {
   "cell_type": "code",
   "execution_count": 45,
   "id": "s0RCOWp0ANMW",
   "metadata": {
    "colab": {
     "base_uri": "https://localhost:8080/"
    },
    "id": "s0RCOWp0ANMW",
    "outputId": "dd265602-aa79-48e4-bd0e-f90bf659c978"
   },
   "outputs": [
    {
     "data": {
      "text/plain": [
       "count_tp\n",
       "68      129\n",
       "80      125\n",
       "72      116\n",
       "73      111\n",
       "78      109\n",
       "       ... \n",
       "2023      1\n",
       "426       1\n",
       "2126      1\n",
       "519       1\n",
       "921       1\n",
       "Name: count, Length: 836, dtype: int64"
      ]
     },
     "execution_count": 45,
     "metadata": {},
     "output_type": "execute_result"
    }
   ],
   "source": [
    "final_rating['count_tp'].value_counts()"
   ]
  },
  {
   "cell_type": "markdown",
   "id": "iKvi8-qKCMck",
   "metadata": {
    "id": "iKvi8-qKCMck"
   },
   "source": [
    "Now, let's create a function to find the **top n songs** for a recommendation based on the max number of times a song has been played. We can also add a **threshold for a minimum number of interactions** for a songs to be considered for recommendation. "
   ]
  },
  {
   "cell_type": "code",
   "execution_count": 47,
   "id": "zM8EYyhOAX2F",
   "metadata": {
    "id": "zM8EYyhOAX2F"
   },
   "outputs": [],
   "source": [
    "def top_n_songs(data, n, min_interaction=50):\n",
    "    \n",
    "    # Finding books with minimum number of interactions\n",
    "    recommendations = data[data['count_tp'] > min_interaction]\n",
    "    \n",
    "    # Sorting values w.r.t. average rating \n",
    "    recommendations = recommendations.sort_values(by='max_tp', ascending=False)\n",
    "    \n",
    "    return recommendations.index[:n]"
   ]
  },
  {
   "cell_type": "markdown",
   "id": "p9oZBQdNCSO5",
   "metadata": {
    "id": "p9oZBQdNCSO5"
   },
   "source": [
    "We can **use this function with different n's and minimum interactions** to get books to recommend."
   ]
  },
  {
   "cell_type": "markdown",
   "id": "Z-LO36o8CWRN",
   "metadata": {
    "id": "Z-LO36o8CWRN"
   },
   "source": [
    "##### **Recommending top Songs with 50 minimum interactions based on popularity**"
   ]
  },
  {
   "cell_type": "code",
   "execution_count": 50,
   "id": "2HZPjSzLCFEF",
   "metadata": {
    "colab": {
     "base_uri": "https://localhost:8080/"
    },
    "id": "2HZPjSzLCFEF",
    "outputId": "dcddf517-5855-4fdd-903a-17e3781c5f83"
   },
   "outputs": [
    {
     "data": {
      "text/plain": [
       "['Starshine',\n",
       " 'Call It Off (Album Version)',\n",
       " 'Paradise & Dreams',\n",
       " \"You're The One\",\n",
       " \"I'm On A Boat\",\n",
       " 'Dance_ Dance',\n",
       " \"Reelin' In The Years\",\n",
       " \"Can't Help But Wait (Album Version)\",\n",
       " 'The Quest',\n",
       " 'Fast Car (LP Version)']"
      ]
     },
     "execution_count": 50,
     "metadata": {},
     "output_type": "execute_result"
    }
   ],
   "source": [
    "res = list(top_n_songs(final_rating, 10, 50))\n",
    "# Name of the books\n",
    "list_of_songs = []\n",
    "for i in res:\n",
    "    list_of_songs.append(df[df['Song ID']== str(i) ]['Song Title'].unique()[0])\n",
    "list_of_songs"
   ]
  },
  {
   "cell_type": "markdown",
   "id": "766caa66",
   "metadata": {
    "id": "766caa66"
   },
   "source": [
    "##### **Recommending top 5 Songs with 200 minimum interactions based on popularity**"
   ]
  },
  {
   "cell_type": "code",
   "execution_count": 52,
   "id": "jjgYTTigCI39",
   "metadata": {
    "colab": {
     "base_uri": "https://localhost:8080/"
    },
    "id": "jjgYTTigCI39",
    "outputId": "8e0d8ee2-d82d-4c76-cefe-be405c44968f"
   },
   "outputs": [
    {
     "data": {
      "text/plain": [
       "['Call It Off (Album Version)',\n",
       " \"You're The One\",\n",
       " \"I'm On A Boat\",\n",
       " 'Dance_ Dance',\n",
       " \"Reelin' In The Years\",\n",
       " \"Can't Help But Wait (Album Version)\",\n",
       " 'Fast Car (LP Version)',\n",
       " 'Glamorous',\n",
       " 'Peace Train',\n",
       " 'Revelry']"
      ]
     },
     "execution_count": 52,
     "metadata": {},
     "output_type": "execute_result"
    }
   ],
   "source": [
    "res2 = list(top_n_songs(final_rating, 10, 200))\n",
    "# Name of the books\n",
    "list_of_song = []\n",
    "for i in res2:\n",
    "    list_of_song.append(df[df['Song ID']== str(i) ]['Song Title'].unique()[0])\n",
    "list_of_song"
   ]
  }
 ],
 "metadata": {
  "colab": {
   "collapsed_sections": [],
   "name": "RS_Book_Recommendation_Solution_Notebook.ipynb",
   "provenance": []
  },
  "gpuClass": "standard",
  "kernelspec": {
   "display_name": "Python [conda env:base] *",
   "language": "python",
   "name": "conda-base-py"
  },
  "language_info": {
   "codemirror_mode": {
    "name": "ipython",
    "version": 3
   },
   "file_extension": ".py",
   "mimetype": "text/x-python",
   "name": "python",
   "nbconvert_exporter": "python",
   "pygments_lexer": "ipython3",
   "version": "3.12.7"
  }
 },
 "nbformat": 4,
 "nbformat_minor": 5
}
